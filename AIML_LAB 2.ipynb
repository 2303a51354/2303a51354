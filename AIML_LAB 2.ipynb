{
  "nbformat": 4,
  "nbformat_minor": 0,
  "metadata": {
    "colab": {
      "provenance": [],
      "authorship_tag": "ABX9TyNsR1XSSa8pe4U9hAQQCbX3",
      "include_colab_link": true
    },
    "kernelspec": {
      "name": "python3",
      "display_name": "Python 3"
    },
    "language_info": {
      "name": "python"
    }
  },
  "cells": [
    {
      "cell_type": "markdown",
      "metadata": {
        "id": "view-in-github",
        "colab_type": "text"
      },
      "source": [
        "<a href=\"https://colab.research.google.com/github/2303a51354/2303a51354/blob/main/AIML_LAB%202.ipynb\" target=\"_parent\"><img src=\"https://colab.research.google.com/assets/colab-badge.svg\" alt=\"Open In Colab\"/></a>"
      ]
    },
    {
      "cell_type": "markdown",
      "source": [],
      "metadata": {
        "id": "9K3YfDZW_6p5"
      }
    },
    {
      "cell_type": "markdown",
      "source": [
        "Lab Exercise - Implement Breadth First, Depth First and A* Search\n",
        "Algorithms\n",
        "Part 1 – Implement Breadth First Search Algorithm using a Queue.\n",
        "[C02]\n",
        "1. Given a graph with adjacency list and a starting vertex and we have to traverse the\n",
        "graph.\n",
        "2. We will first print the value in the starting vertex,\n",
        "3. Continue to print the value of neighbors of the starting vertex and\n",
        "4. Next move on to the next level after completing the current level till all the vertices of\n",
        "the graph are printed.\n",
        "1\n"
      ],
      "metadata": {
        "id": "aVbQd810AQYa"
      }
    },
    {
      "cell_type": "code",
      "execution_count": 1,
      "metadata": {
        "colab": {
          "base_uri": "https://localhost:8080/"
        },
        "id": "ekr9wdIm_zdy",
        "outputId": "49579102-b960-45fd-b1a3-0a79e871be99"
      },
      "outputs": [
        {
          "output_type": "stream",
          "name": "stdout",
          "text": [
            "the adjacency List representing the graph is:\n",
            "{0: [1, 2, 3], 1: [0, 2], 2: [0, 1, 3, 5], 3: [0, 2, 4], 4: [3, 5, 7], 5: [4, 6, 7], 6: [5, 7], 7: [4, 5, 6], 8: [4, 6, 7]}\n"
          ]
        }
      ],
      "source": [
        "from queue import Queue\n",
        "graph = {0:[1,2,3],1:[0,2],2:[0,1,3,5],3:[0,2,4],4:[3,5,7],5:[4,6,7],6:[5,7],7:[4,5,6],8:[4,6,7]}\n",
        "print(\"the adjacency List representing the graph is:\")\n",
        "print(graph)"
      ]
    },
    {
      "cell_type": "markdown",
      "source": [
        "Part 2 – Implement Depth First Search Algorithm using a Stack.\n",
        "[CO3]\n",
        "DFS Stack implementations steps to be followed:\n",
        "1. Start at the root node and push it onto the stack.\n",
        "2. Check for any adjacent nodes of the tree and select one node.\n",
        "3. Traverse the entire branch of the selected node and push all the nodes into the stack.\n",
        "4. Upon reaching the end of a branch (no more adjacent nodes) ie nth leaf node, move\n",
        "back by a single step and look for adjacent nodes of the n-1th node.\n",
        "5. If there are adjacent nodes for the n-1th node, traverse those branches and push nodes\n",
        "onto the stack.\n",
        "Part 3 – Implement A* Algorithm using Numpy. [CO4]\n",
        "1. A*Algorithm (pronounced as A-star) is a combination of ‘branch and bound search\n",
        "algorithm’ and ‘best search algorithm’ combined with the dynamic programming prin-\n",
        "ciple.\n",
        "2. The A* Algorithm is well-known because it is used for locating path and graph traver-\n",
        "sals.\n",
        "3. This algorithm is used in numerous online maps and games.\n",
        "4. It uses a heuristic or evaluation function usually denoted by f(X) to determine the order\n",
        "in which the search visits nodes in the tree.\n",
        "2\n"
      ],
      "metadata": {
        "id": "0ps9sICtAn0w"
      }
    },
    {
      "cell_type": "code",
      "source": [
        "def bfs(graph,source):\n",
        "    Q = Queue()\n",
        "    visited_vertices = set()\n",
        "    Q.put(source)\n",
        "    visited_vertices.add(source)\n",
        "    while not Q.empty():\n",
        "     vertex = Q.get()\n",
        "     print(vertex,end=\"-->\")\n",
        "     for u in graph[vertex]:\n",
        "      if u not in visited_vertices:\n",
        "\n",
        "        Q.put(u)\n",
        "        visited_vertices.update ({u})\n",
        "print(\"BFS traversal of the graph is:\")\n",
        "bfs(graph,1)\n",
        ""
      ],
      "metadata": {
        "colab": {
          "base_uri": "https://localhost:8080/"
        },
        "id": "Z_Mskw55Aylp",
        "outputId": "b613c635-3c9f-4cc7-f5b2-4cb9f1f67b2b"
      },
      "execution_count": 2,
      "outputs": [
        {
          "output_type": "stream",
          "name": "stdout",
          "text": [
            "BFS traversal of the graph is:\n",
            "1-->0-->2-->3-->5-->4-->6-->7-->"
          ]
        }
      ]
    },
    {
      "cell_type": "markdown",
      "source": [
        "Part 3 – Implement A* Algorithm using Numpy. [CO4]\n",
        "1. A*Algorithm (pronounced as A-star) is a combination of ‘branch and bound search\n",
        "algorithm’ and ‘best search algorithm’ combined with the dynamic programming prin-\n",
        "ciple.\n",
        "2. The A* Algorithm is well-known because it is used for locating path and graph traver-\n",
        "sals.\n",
        "3. This algorithm is used in numerous online maps and games.\n",
        "4. It uses a heuristic or evaluation function usually denoted by f(X) to determine the order\n",
        "in which the search visits nodes in the tree.\n",
        "2\n"
      ],
      "metadata": {
        "id": "69PyXdFMA5wk"
      }
    },
    {
      "cell_type": "code",
      "source": [
        "graph = {\n",
        "  'A' : ['C','D','G'],\n",
        "\n",
        "  'B' : ['A'],\n",
        "  'C' : ['A','C','F'],\n",
        "  'D' : ['A','C','E','G','H'],\n",
        "  'E' : ['D','F','H'],\n",
        "  'F' : ['C','E'],\n",
        "  'G' : ['A','D','H'],\n",
        "  'H' : ['D','E','G'],\n",
        "}\n",
        "print(\"The adjancencyList\")\n"
      ],
      "metadata": {
        "colab": {
          "base_uri": "https://localhost:8080/"
        },
        "id": "-zqUZdMeBU4k",
        "outputId": "a3132c1a-4d42-4b84-fc84-850f15f179ad"
      },
      "execution_count": 3,
      "outputs": [
        {
          "output_type": "stream",
          "name": "stdout",
          "text": [
            "The adjancencyList\n"
          ]
        }
      ]
    }
  ]
}