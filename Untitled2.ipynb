{
  "nbformat": 4,
  "nbformat_minor": 0,
  "metadata": {
    "colab": {
      "provenance": []
    },
    "kernelspec": {
      "name": "python3",
      "display_name": "Python 3"
    },
    "language_info": {
      "name": "python"
    }
  },
  "cells": [
    {
      "cell_type": "code",
      "execution_count": 1,
      "metadata": {
        "colab": {
          "base_uri": "https://localhost:8080/"
        },
        "id": "Iomf3dIUNjO6",
        "outputId": "cb968a76-6ab2-48e6-cc05-7fb3e6f067a5"
      },
      "outputs": [
        {
          "output_type": "stream",
          "name": "stdout",
          "text": [
            "the adjacency List representing the graph is:\n",
            "{0: [1, 2, 3], 1: [0, 2], 2: [0, 1, 3, 5], 3: [0, 2, 4], 4: [3, 5, 7], 5: [4, 6, 7], 6: [5, 7], 7: [4, 5, 6], 8: [4, 6, 7]}\n"
          ]
        }
      ],
      "source": [
        "from queue import Queue\n",
        "graph = {0:[1,2,3],1:[0,2],2:[0,1,3,5],3:[0,2,4],4:[3,5,7],5:[4,6,7],6:[5,7],7:[4,5,6],8:[4,6,7]}\n",
        "print(\"the adjacency List representing the graph is:\")\n",
        "print(graph)"
      ]
    },
    {
      "cell_type": "code",
      "source": [
        "def bfs(graph,source):\n",
        "    Q = Queue()\n",
        "    visited_vertices = set()\n",
        "    Q.put(source)\n",
        "    visited_vertices.add(source)\n",
        "    while not Q.empty():\n",
        "     vertex = Q.get()\n",
        "     print(vertex,end=\"-->\")\n",
        "     for u in graph[vertex]:\n",
        "      if u not in visited_vertices:\n",
        "\n",
        "        Q.put(u)\n",
        "        visited_vertices.update ({u})\n",
        "print(\"BFS traversal of the graph is:\")\n",
        "bfs(graph,1)"
      ],
      "metadata": {
        "colab": {
          "base_uri": "https://localhost:8080/"
        },
        "id": "DHXJoZ5VTnJM",
        "outputId": "98646915-177b-43c9-cfda-a28cb1443558"
      },
      "execution_count": 34,
      "outputs": [
        {
          "output_type": "stream",
          "name": "stdout",
          "text": [
            "BFS traversal of the graph is:\n",
            "1-->0-->2-->3-->5-->4-->6-->7-->"
          ]
        }
      ]
    },
    {
      "cell_type": "code",
      "source": [
        "graph = {\n",
        "  'A' : ['C','D','G'],\n",
        "\n",
        "  'B' : ['A'],\n",
        "  'C' : ['A','C','F'],\n",
        "  'D' : ['A','C','E','G','H'],\n",
        "  'E' : ['D','F','H'],\n",
        "  'F' : ['C','E'],\n",
        "  'G' : ['A','D','H'],\n",
        "  'H' : ['D','E','G'],\n",
        "}\n",
        "print(\"The adjancencyList\")\n"
      ],
      "metadata": {
        "colab": {
          "base_uri": "https://localhost:8080/"
        },
        "id": "8NBf-Z_qUzop",
        "outputId": "d25a61d7-4097-4918-9480-6f3f6592ab8b"
      },
      "execution_count": 35,
      "outputs": [
        {
          "output_type": "stream",
          "name": "stdout",
          "text": [
            "The adjancencyList\n"
          ]
        }
      ]
    }
  ]
}